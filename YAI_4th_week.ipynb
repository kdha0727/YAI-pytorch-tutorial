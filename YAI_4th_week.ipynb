{
 "cells": [
  {
   "cell_type": "markdown",
   "metadata": {
    "id": "1_R5zDoMPCn-"
   },
   "source": [
    "Term: YAI 2021 summer session\n",
    "\n",
    "Team Member: Dongha Kim, Jeongeun Lee, Junho Lee, Suyeong Choi."
   ]
  },
  {
   "cell_type": "markdown",
   "source": [
    "# **ResNet: Training a Classifier**"
   ],
   "metadata": {
    "collapsed": false,
    "pycharm": {
     "name": "#%% md\n"
    }
   }
  },
  {
   "cell_type": "markdown",
   "metadata": {
    "id": "9yRGyn4aX0TY"
   },
   "source": [
    "## **What is CIFAR10?**"
   ]
  },
  {
   "cell_type": "markdown",
   "metadata": {
    "id": "dP78eTggVqs6"
   },
   "source": [
    "The CIFAR-10 dataset consists of 60000 32x32 colour images in 10 classes, with 6000 images per class. There are 50000 training images and 10000 test images.\n",
    "\n",
    "The dataset is divided into five training batches and one test batch, each with 10000 images. The test batch contains exactly 1000 randomly-selected images from each class. The training batches contain the remaining images in random order, but some training batches may contain more images from one class than another. Between them, the training batches contain exactly 5000 images from each class.\n",
    "\n",
    "Link: https://www.cs.toronto.edu/~kriz/cifar.html\n"
   ]
  },
  {
   "cell_type": "markdown",
   "metadata": {
    "id": "NiAXxfcwUyqN"
   },
   "source": [
    "## **Mission**\n",
    "\n",
    "In the lecture, you have seen how to define neural networks, compute loss and make updates to the weights of the network. In this task, you will classify CIFAR10 images by using a ResNet."
   ]
  },
  {
   "cell_type": "markdown",
   "metadata": {
    "id": "7myYsUvkXY5K"
   },
   "source": [
    "We will do the following steps in order:\n",
    "\n",
    "1. Load and normalize the CIFAR10 training and test datasets using torchvision\n",
    "2. Define a Convolutional Neural Network\n",
    "3. Define a loss function\n",
    "4. Train the network on the training data\n",
    "5. Test the network on the test data"
   ]
  },
  {
   "cell_type": "markdown",
   "metadata": {},
   "source": [
    "You can set the number of layers freely when constructing a model. Share the results among your team members."
   ]
  },
  {
   "cell_type": "markdown",
   "source": [
    "# Prepare library and dataset"
   ],
   "metadata": {
    "collapsed": false,
    "pycharm": {
     "name": "#%% md\n"
    }
   }
  },
  {
   "cell_type": "code",
   "execution_count": 1,
   "metadata": {
    "id": "q7knKmusOo_M"
   },
   "outputs": [
    {
     "name": "stdout",
     "output_type": "stream",
     "text": [
      "<Runtime Information>\n",
      "OS version: \t\tWindows-10-10.0.19041-SP0\n",
      "Python version:\t\t3.8.8 [MSC v.1916 64 bit (AMD64)]\n",
      "Torch version:\t\t1.8.1\n",
      "Torch device:\t\tcuda\n"
     ]
    }
   ],
   "source": [
    "# Import library\n",
    "import matplotlib.pyplot as plt\n",
    "import numpy as np\n",
    "import torch\n",
    "import torch.nn as nn\n",
    "import torchvision.transforms as transforms\n",
    "import torchvision.datasets as datasets\n",
    "\n",
    "from extensions.easyrun import Trainer, runtime_info, dataset_info  # type: ignore\n",
    "\n",
    "# Configure Runtime\n",
    "device = torch.device('cuda' if torch.cuda.is_available() else 'cpu')\n",
    "\n",
    "# Print Runtime Information\n",
    "print(runtime_info())"
   ]
  },
  {
   "cell_type": "code",
   "execution_count": 2,
   "metadata": {
    "id": "bQI4lNyfOvRQ"
   },
   "outputs": [
    {
     "name": "stdout",
     "output_type": "stream",
     "text": [
      "Files already downloaded and verified\n",
      "<Dataset Information>\n",
      "Train Dataset: \t\t50000\n",
      "Test Dataset: \t\t10000\n"
     ]
    }
   ],
   "source": [
    "# CIFAR-10 Dataset\n",
    "train_dataset = datasets.CIFAR10(\n",
    "    root='data', train=True, download=True, transform=transforms.ToTensor())\n",
    "test_dataset = datasets.CIFAR10(\n",
    "    root='data', train=False, transform=transforms.ToTensor())\n",
    "# train_dataset, val_dataset = torch.utils.data.random_split(\n",
    "#     train_dataset, [40000, 10000])  # split - 4:1\n",
    "\n",
    "# Summarize Dataset\n",
    "print(dataset_info(train=train_dataset, test=test_dataset, loader=False))"
   ]
  },
  {
   "cell_type": "markdown",
   "source": [
    "# Preprocess CIFAR-10"
   ],
   "metadata": {
    "collapsed": false,
    "pycharm": {
     "name": "#%% md\n"
    }
   }
  },
  {
   "cell_type": "markdown",
   "source": [
    "## Normalize"
   ],
   "metadata": {
    "collapsed": false,
    "pycharm": {
     "name": "#%% md\n"
    }
   }
  },
  {
   "cell_type": "code",
   "execution_count": 3,
   "outputs": [
    {
     "name": "stdout",
     "output_type": "stream",
     "text": [
      "mean: (0.49139965, 0.48215845, 0.4465309), std: (0.060528398, 0.061124973, 0.06764512)\n"
     ]
    }
   ],
   "source": [
    "# Normalize dataset\n",
    "\n",
    "def make_normalize(dataset):\n",
    "\n",
    "    mean_rgb, std_rgb = [], []\n",
    "    for x, _ in dataset:\n",
    "        x = x.numpy()\n",
    "        mean_rgb.append(np.mean(x, axis=(1, 2)))\n",
    "        std_rgb.append(np.std(x, axis=(1, 2)))\n",
    "\n",
    "    transform_mean = tuple((np.mean([m[i] for m in mean_rgb]) for i in range(3)))\n",
    "    transform_std = tuple((np.std([s[i] for s in std_rgb]) for i in range(3)))\n",
    "\n",
    "    print(f\"mean: {transform_mean}, std: {transform_std}\")\n",
    "    return transforms.Normalize(mean=transform_mean, std=transform_std)\n",
    "\n",
    "\n",
    "normalizer = make_normalize(train_dataset)"
   ],
   "metadata": {
    "collapsed": false,
    "pycharm": {
     "name": "#%%\n"
    }
   }
  },
  {
   "cell_type": "markdown",
   "source": [
    "## Data Augmentation"
   ],
   "metadata": {
    "collapsed": false,
    "pycharm": {
     "name": "#%% md\n"
    }
   }
  },
  {
   "cell_type": "code",
   "execution_count": 4,
   "outputs": [],
   "source": [
    "train_transforms = transforms.Compose([\n",
    "    transforms.Pad(4),\n",
    "    transforms.RandomCrop(32),\n",
    "    transforms.RandomHorizontalFlip(),\n",
    "    transforms.RandomRotation(10),\n",
    "    transforms.RandomAffine(0, shear=10, scale=(0.8, 1.2)),\n",
    "    transforms.ColorJitter(brightness=0.2, contrast=0.2, saturation=0.2),\n",
    "    transforms.ToTensor(),\n",
    "    normalizer,\n",
    "])\n",
    "\n",
    "test_transforms = transforms.Compose([\n",
    "    transforms.Pad(4),\n",
    "    transforms.ToTensor(),\n",
    "    normalizer,\n",
    "])"
   ],
   "metadata": {
    "collapsed": false,
    "pycharm": {
     "name": "#%%\n"
    }
   }
  },
  {
   "cell_type": "markdown",
   "source": [
    "## Apply Preprocessing"
   ],
   "metadata": {
    "collapsed": false,
    "pycharm": {
     "name": "#%% md\n"
    }
   }
  },
  {
   "cell_type": "code",
   "execution_count": 5,
   "outputs": [
    {
     "name": "stdout",
     "output_type": "stream",
     "text": [
      "<DataLoader Information>\n",
      "Train Batch: \t\t200\n",
      "Test Batch: \t\t40\n"
     ]
    }
   ],
   "source": [
    "# Apply\n",
    "train_dataset.transform = train_transforms\n",
    "test_dataset.transform = test_transforms\n",
    "\n",
    "# Make Data Loader\n",
    "train_loader = torch.utils.data.DataLoader(  # type: ignore\n",
    "    dataset=train_dataset, batch_size=250, shuffle=True, num_workers=2)\n",
    "test_loader = torch.utils.data.DataLoader(  # type: ignore\n",
    "    dataset=test_dataset, batch_size=250, shuffle=False, num_workers=2)\n",
    "\n",
    "# Summarize Data Loader\n",
    "print(dataset_info(train=train_loader, test=test_loader, loader=True))"
   ],
   "metadata": {
    "collapsed": false,
    "pycharm": {
     "name": "#%%\n"
    }
   }
  },
  {
   "cell_type": "markdown",
   "metadata": {
    "id": "vKpJR1suOz3-",
    "pycharm": {
     "name": "#%% md\n"
    }
   },
   "source": [
    "# Build Resnet"
   ]
  },
  {
   "cell_type": "markdown",
   "source": [
    "## 3x3 Convolution Layer"
   ],
   "metadata": {
    "collapsed": false,
    "pycharm": {
     "name": "#%% md\n"
    }
   }
  },
  {
   "cell_type": "code",
   "execution_count": 6,
   "outputs": [],
   "source": [
    "# 3x3 convolution\n",
    "def conv3x3(in_channels, out_channels, stride=1):\n",
    "    \"\"\"3x3 convolution with padding\"\"\"\n",
    "    return nn.Conv2d(\n",
    "        in_channels, out_channels,\n",
    "        kernel_size=(3, 3), padding=(1, 1), groups=1, bias=False, stride=stride,\n",
    "    )"
   ],
   "metadata": {
    "collapsed": false,
    "pycharm": {
     "name": "#%%\n"
    }
   }
  },
  {
   "cell_type": "markdown",
   "source": [
    "## Residual Block"
   ],
   "metadata": {
    "collapsed": false,
    "pycharm": {
     "name": "#%% md\n"
    }
   }
  },
  {
   "cell_type": "code",
   "execution_count": 7,
   "metadata": {
    "id": "O5NWn8kRO08J"
   },
   "outputs": [],
   "source": [
    "# Residual block\n",
    "class ResidualBlock(nn.Module):\n",
    "\n",
    "    expansion = 1\n",
    "\n",
    "    def __init__(self, in_channels, out_channels, stride=1, downsample=None):\n",
    "        super().__init__()\n",
    "        self.residual_function = nn.Sequential(\n",
    "            conv3x3(in_channels, out_channels, stride),\n",
    "            nn.BatchNorm2d(out_channels),\n",
    "            nn.ReLU(inplace=True),\n",
    "            conv3x3(out_channels, out_channels),\n",
    "            nn.BatchNorm2d(out_channels)\n",
    "        )\n",
    "        self.relu = nn.ReLU(inplace=True)\n",
    "        self.downsample = downsample\n",
    "\n",
    "    def forward(self, x):\n",
    "        identity = x\n",
    "        out = self.residual_function(x)\n",
    "        if self.downsample is not None:\n",
    "            identity = self.downsample(x)\n",
    "        out += identity\n",
    "        out = self.relu(out)\n",
    "        return out\n"
   ]
  },
  {
   "cell_type": "markdown",
   "source": [
    "## Resnet"
   ],
   "metadata": {
    "collapsed": false,
    "pycharm": {
     "name": "#%% md\n"
    }
   }
  },
  {
   "cell_type": "code",
   "execution_count": 8,
   "metadata": {
    "id": "wAaArbp3O2KU"
   },
   "outputs": [],
   "source": [
    "# ResNet\n",
    "class ResNet(nn.Module):\n",
    "\n",
    "    def __init__(self, block, layers, in_channels=64, num_classes=10):\n",
    "\n",
    "        super().__init__()\n",
    "\n",
    "        self.in_channels = in_channels\n",
    "        self.block = block\n",
    "\n",
    "        self.feature_extractor = nn.Sequential(\n",
    "            nn.Conv2d(\n",
    "                3, self.in_channels,\n",
    "                kernel_size=(7, 7), stride=(2, 2), padding=(3, 3), bias=False\n",
    "            ),\n",
    "            nn.BatchNorm2d(self.in_channels),\n",
    "            nn.ReLU(inplace=True),\n",
    "            nn.MaxPool2d(kernel_size=3, stride=2, padding=1),\n",
    "            *[\n",
    "                self.make_layer(2 ** (6 + i), layers[num_blocks], stride=2 if i else 1)\n",
    "                for i, num_blocks in enumerate(layers)\n",
    "            ],\n",
    "            nn.AdaptiveAvgPool2d((1, 1)),\n",
    "        )\n",
    "        self.fc = nn.Linear(2 ** (5 + len(layers)) * block.expansion, num_classes)\n",
    "\n",
    "        # Weight Initialization\n",
    "        for m in self.modules():\n",
    "            if isinstance(m, nn.Conv2d):\n",
    "                nn.init.kaiming_normal_(m.weight, mode='fan_out', nonlinearity='relu')\n",
    "            elif isinstance(m, nn.BatchNorm2d):\n",
    "                nn.init.ones_(m.weight)\n",
    "                nn.init.zeros_(m.bias)\n",
    "\n",
    "    def make_layer(self, out_channels, layers, stride=1):\n",
    "\n",
    "        block = self.block\n",
    "        first_in_channels = self.in_channels\n",
    "\n",
    "        downsample = None\n",
    "\n",
    "        if stride != 1 or first_in_channels != out_channels * block.expansion:\n",
    "            downsample = nn.Sequential(\n",
    "                nn.Conv2d(\n",
    "                    self.in_channels, out_channels * block.expansion,\n",
    "                    kernel_size=(1, 1), stride=(stride, stride), bias=False\n",
    "                ),\n",
    "                nn.BatchNorm2d(out_channels * block.expansion),\n",
    "            )\n",
    "\n",
    "        # configure the number of next in-channel\n",
    "        self.in_channels = out_channels * block.expansion\n",
    "\n",
    "        return nn.Sequential(\n",
    "            block(first_in_channels, out_channels, stride, downsample),\n",
    "            *[block(self.in_channels, out_channels)] * (layers - 1)\n",
    "        )\n",
    "\n",
    "    def forward(self, x):\n",
    "        out = self.feature_extractor(x)\n",
    "        out = torch.flatten(out, 1)\n",
    "        out = self.fc(out)\n",
    "        return out\n"
   ]
  },
  {
   "cell_type": "markdown",
   "source": [
    "# Train and Test"
   ],
   "metadata": {
    "collapsed": false,
    "pycharm": {
     "name": "#%% md\n"
    }
   }
  },
  {
   "cell_type": "markdown",
   "source": [
    "## Set Hyper-parameters and Instantiate Resnet"
   ],
   "metadata": {
    "collapsed": false,
    "pycharm": {
     "name": "#%% md\n"
    }
   }
  },
  {
   "cell_type": "code",
   "execution_count": 9,
   "outputs": [],
   "source": [
    "# Set hyper-parameters and prepare train objects\n",
    "num_epochs = 120\n",
    "model = ResNet(ResidualBlock, [2, 2, 2])\n",
    "optimizer = torch.optim.Adam(model.parameters(), lr=1e-3)\n",
    "lr_scheduler = torch.optim.lr_scheduler.StepLR(optimizer, step_size=20, gamma=1 / 3)\n"
   ],
   "metadata": {
    "collapsed": false,
    "pycharm": {
     "name": "#%%\n"
    }
   }
  },
  {
   "cell_type": "markdown",
   "source": [
    "## Run"
   ],
   "metadata": {
    "collapsed": false,
    "pycharm": {
     "name": "#%% md\n"
    }
   }
  },
  {
   "cell_type": "markdown",
   "source": [
    "Trainer Source:\n",
    "* https://github.com/kdha0727/Easyrun-Pytorch/blob/master/easyrun.py"
   ],
   "metadata": {
    "collapsed": false,
    "pycharm": {
     "name": "#%% md\n"
    }
   }
  },
  {
   "cell_type": "code",
   "execution_count": 10,
   "outputs": [
    {
     "name": "stdout",
     "output_type": "stream",
     "text": [
      "\n",
      "<Start Learning> \t\t\t\tTotal 120 epochs\n",
      "\n",
      "Epoch 1\n",
      "[Train]\t Average loss: 1.57185, \t\tTotal accuracy: 41.71%  \n",
      "[Eval]\t Average loss: 1.36001, \t\tTotal accuracy: 49.40% \n",
      "\n",
      "Epoch 2\n",
      "[Train]\t Average loss: 1.16825, \t\tTotal accuracy: 57.57%  \n",
      "[Eval]\t Average loss: 1.11561, \t\tTotal accuracy: 60.61% \n",
      "\n",
      "Epoch 3\n",
      "[Train]\t Average loss: 1.00435, \t\tTotal accuracy: 64.24%  \n",
      "[Eval]\t Average loss: 1.08626, \t\tTotal accuracy: 62.88% \n",
      "\n",
      "Epoch 4\n",
      "[Train]\t Average loss: 0.89805, \t\tTotal accuracy: 68.04%  \n",
      "[Eval]\t Average loss: 0.86803, \t\tTotal accuracy: 69.23% \n",
      "\n",
      "Epoch 5\n",
      "[Train]\t Average loss: 0.81829, \t\tTotal accuracy: 71.24%  \n",
      "[Eval]\t Average loss: 0.94382, \t\tTotal accuracy: 67.93% \n",
      "\n",
      "(...)\n",
      "\n",
      "Epoch 116\n",
      "[Train]\t Average loss: 0.24767, \t\tTotal accuracy: 91.31%  \n",
      "[Eval]\t Average loss: 0.37794, \t\tTotal accuracy: 88.26% \n",
      "\n",
      "Epoch 117\n",
      "[Train]\t Average loss: 0.25220, \t\tTotal accuracy: 91.14%  \n",
      "[Eval]\t Average loss: 0.37795, \t\tTotal accuracy: 88.27% \n",
      "\n",
      "Epoch 118\n",
      "[Train]\t Average loss: 0.25395, \t\tTotal accuracy: 91.09%  \n",
      "[Eval]\t Average loss: 0.37892, \t\tTotal accuracy: 88.14% \n",
      "\n",
      "Epoch 119\n",
      "[Train]\t Average loss: 0.24947, \t\tTotal accuracy: 91.10%  \n",
      "[Eval]\t Average loss: 0.37947, \t\tTotal accuracy: 88.10% \n",
      "\n",
      "Epoch 120\n",
      "[Train]\t Average loss: 0.24832, \t\tTotal accuracy: 91.29%  \n",
      "[Eval]\t Average loss: 0.37903, \t\tTotal accuracy: 88.14% \n",
      "\n",
      "<Stop Learning> \tLeast loss: 0.3772\tDuration: 134m 26.81s\n",
      "\n",
      "[Test]\t Average loss: 0.37720, \t\tTotal accuracy: 88.40% \n"
     ]
    }
   ],
   "source": [
    "# Train and Test\n",
    "with Trainer(\n",
    "        model, 'CrossEntropyLoss', optimizer, num_epochs,\n",
    "        train_iter=train_loader, test_iter=test_loader, val_iter=test_loader,\n",
    "        step_task=lr_scheduler.step, verbose=True, timer=True, log_interval=1,\n",
    ") as trainer:\n",
    "    trainer.to(device)\n",
    "    train_result = trainer.run()\n",
    "    test_loss, test_accuracy = trainer.test()\n",
    "\n",
    "# Save the model checkpoint\n",
    "torch.save(model.state_dict(), 'yai_4th_week.pt')"
   ],
   "metadata": {
    "collapsed": false,
    "pycharm": {
     "name": "#%%\n"
    }
   }
  },
  {
   "cell_type": "markdown",
   "source": [
    "## Visualize Training Process"
   ],
   "metadata": {
    "collapsed": false,
    "pycharm": {
     "name": "#%% md\n"
    }
   }
  },
  {
   "cell_type": "code",
   "execution_count": 11,
   "outputs": [
    {
     "data": {
      "text/plain": "<Figure size 432x288 with 1 Axes>",
      "image/png": "[encoded data removed]"
     },
     "metadata": {
      "needs_background": "light"
     },
     "output_type": "display_data"
    },
    {
     "data": {
      "text/plain": "<Figure size 432x288 with 1 Axes>",
      "image/png": "[encoded data removed]"
     },
     "metadata": {
      "needs_background": "light"
     },
     "output_type": "display_data"
    }
   ],
   "source": [
    "train_result = np.array(train_result)\n",
    "\n",
    "# Loss Plot\n",
    "plt.title(\"Train-Val Loss\")\n",
    "plt.plot(range(1, num_epochs + 1), train_result[:, 0], label=\"train\")\n",
    "plt.plot(range(1, num_epochs + 1), train_result[:, 2], label=\"val\")\n",
    "plt.ylabel(\"Loss\")\n",
    "plt.xlabel(\"Training Epochs\")\n",
    "plt.legend()\n",
    "plt.show()\n",
    "\n",
    "# Accuracy Plot\n",
    "plt.title(\"Train-Val Accuracy\")\n",
    "plt.plot(range(1, num_epochs + 1), train_result[:, 1], label=\"train\")\n",
    "plt.plot(range(1, num_epochs + 1), train_result[:, 3], label=\"val\")\n",
    "plt.ylabel(\"Accuracy\")\n",
    "plt.xlabel(\"Training Epochs\")\n",
    "plt.legend()\n",
    "plt.show()"
   ],
   "metadata": {
    "collapsed": false,
    "pycharm": {
     "name": "#%%\n"
    }
   }
  }
 ],
 "metadata": {
  "accelerator": "GPU",
  "colab": {
   "name": "2021-2 YAI 기초세션 4주차",
   "provenance": []
  },
  "kernelspec": {
   "display_name": "Python 3",
   "language": "python",
   "name": "python3"
  },
  "language_info": {
   "codemirror_mode": {
    "name": "ipython",
    "version": 3
   },
   "file_extension": ".py",
   "mimetype": "text/x-python",
   "name": "python",
   "nbconvert_exporter": "python",
   "pygments_lexer": "ipython3",
   "version": "3.8.5"
  }
 },
 "nbformat": 4,
 "nbformat_minor": 1
}